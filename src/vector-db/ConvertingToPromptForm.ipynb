{
 "cells": [
  {
   "cell_type": "code",
   "execution_count": 8,
   "id": "f7f41910",
   "metadata": {},
   "outputs": [
    {
     "name": "stdout",
     "output_type": "stream",
     "text": [
      " saved dat: C:\\Users\\Tarek Mohamed\\AI-Agent-Diabetes-Diagnosis\\Datasets\\Input\\UCI_Patients_Prompts.jsonl\n"
     ]
    }
   ],
   "source": [
    "import json\n",
    "import os\n",
    "\n",
    "inputPath = r\"C:\\Users\\Tarek Mohamed\\AI-Agent-Diabetes-Diagnosis\\Datasets\\Input\\UCI_Patients_Preprocessed.json\"\n",
    "outputPath = r\"C:\\Users\\Tarek Mohamed\\AI-Agent-Diabetes-Diagnosis\\Datasets\\Input\\UCI_Patients_Prompts.jsonl\"\n",
    "\n",
    "with open(inputPath, \"r\") as f:\n",
    "    data = json.load(f)\n",
    "\n",
    "with open(outputPath, \"w\") as f:\n",
    "    for record in data:\n",
    "        prompt = (\n",
    "            f\"Given the following patient data:\\n\"\n",
    "            f\"- Race: {record['patient_race']}\\n\"\n",
    "            f\"- Gender: {record['patient_gender']}\\n\"\n",
    "            f\"- Age Group: {record['patient_age_group']}\\n\"\n",
    "            f\"- Hospital Stay: {record['hospital_stay_days']} days\\n\"\n",
    "            f\"- Insurance: {record['insurance_type']}\\n\"\n",
    "            f\"- Doctor Specialty: {record['doctor_specialty']}\\n\"\n",
    "            f\"- Lab Tests: {record['lab_tests_count']}\\n\"\n",
    "            f\"- Procedures: {record['procedures_count']}\\n\"\n",
    "            f\"- Medications: {record['medications_count']}\\n\"\n",
    "            f\"- Outpatient Visits: {record['past_outpatient_visits']}\\n\"\n",
    "            f\"- Emergency Visits: {record['past_emergency_visits']}\\n\"\n",
    "            f\"- Inpatient Visits: {record['past_inpatient_visits']}\\n\"\n",
    "            f\"- Diagnoses: {record['diagnoses_total']}\\n\"\n",
    "            f\"- Insulin: {record['med_insulin']}\\n\"\n",
    "            f\"- Readmission Status : {record['readmission_status']}\\n\"\n",
    "            f\"- Diabetes Medication: {record['diabetes_medication']}\\n\\n\"\n",
    "            f\"Predict the patient has diabetes or not.\"\n",
    "        )\n",
    "\n",
    "        completion = f\" {record['diabetes_medication']}\"\n",
    "\n",
    "        json_line = {\"prompt\": prompt, \"completion\": completion}\n",
    "        f.write(json.dumps(json_line) + \"\\n\")\n",
    "\n",
    "print(f\" saved dat: {outputPath}\")\n"
   ]
  }
 ],
 "metadata": {
  "kernelspec": {
   "display_name": "base",
   "language": "python",
   "name": "python3"
  },
  "language_info": {
   "codemirror_mode": {
    "name": "ipython",
    "version": 3
   },
   "file_extension": ".py",
   "mimetype": "text/x-python",
   "name": "python",
   "nbconvert_exporter": "python",
   "pygments_lexer": "ipython3",
   "version": "3.12.7"
  }
 },
 "nbformat": 4,
 "nbformat_minor": 5
}
